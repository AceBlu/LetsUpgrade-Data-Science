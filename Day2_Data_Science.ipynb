{
  "nbformat": 4,
  "nbformat_minor": 0,
  "metadata": {
    "colab": {
      "name": "Day2 Data Science.ipynb",
      "provenance": [],
      "authorship_tag": "ABX9TyM/Q+i0vR1AaJbJqTaP4g7D",
      "include_colab_link": true
    },
    "kernelspec": {
      "name": "python3",
      "display_name": "Python 3"
    }
  },
  "cells": [
    {
      "cell_type": "markdown",
      "metadata": {
        "id": "view-in-github",
        "colab_type": "text"
      },
      "source": [
        "<a href=\"https://colab.research.google.com/github/AceBlu/LetsUpgrade-Data-Science/blob/main/Day2_Data_Science.ipynb\" target=\"_parent\"><img src=\"https://colab.research.google.com/assets/colab-badge.svg\" alt=\"Open In Colab\"/></a>"
      ]
    },
    {
      "cell_type": "markdown",
      "metadata": {
        "id": "TazGHUbO5mef"
      },
      "source": [
        "**Question 1:** Create an empty list. Accept 10 numbers from the user and append to it the list if it is an even number."
      ]
    },
    {
      "cell_type": "code",
      "metadata": {
        "id": "wsxYQeHG3u_h",
        "outputId": "b05b513e-fd79-4449-c2fc-72c5a3ecb182",
        "colab": {
          "base_uri": "https://localhost:8080/"
        }
      },
      "source": [
        "lst = []\n",
        "for i in range(0,10):\n",
        "    x = int(input(\"\\n-->>\"))\n",
        "    lst.append(x)\n",
        "    \n",
        "#list to append event numbers\n",
        "even_lst = []\n",
        "\n",
        "# appending even numbers only\n",
        "for i in lst:\n",
        "    if(i%2==0):\n",
        "        even_lst.append(i)\n",
        "        \n",
        "print(\"\\nEven Numbers are:\",even_lst)"
      ],
      "execution_count": 6,
      "outputs": [
        {
          "output_type": "stream",
          "text": [
            "\n",
            "-->>1\n",
            "\n",
            "-->>23\n",
            "\n",
            "-->>34\n",
            "\n",
            "-->>29\n",
            "\n",
            "-->>18\n",
            "\n",
            "-->>16\n",
            "\n",
            "-->>17\n",
            "\n",
            "-->>90\n",
            "\n",
            "-->>89\n",
            "\n",
            "-->>76\n",
            "\n",
            "Even Numbers are: [34, 18, 16, 90, 76]\n"
          ],
          "name": "stdout"
        }
      ]
    },
    {
      "cell_type": "markdown",
      "metadata": {
        "id": "I9ZCUY0466TP"
      },
      "source": [
        "**Question 2:** Create a notebook on LIST COMPREHENSION. This exercise is to put you in a Self learning mode"
      ]
    },
    {
      "cell_type": "code",
      "metadata": {
        "id": "_oU_A_cW7RcE",
        "outputId": "39182895-3a07-4d67-bed0-5178d48f65fc",
        "colab": {
          "base_uri": "https://localhost:8080/"
        }
      },
      "source": [
        "prime_lst =[num for num in range(2, 20)\n",
        "     if all(num % x != 0 for x in range(2, num))]\n",
        "\n",
        "print(prime_lst)"
      ],
      "execution_count": 12,
      "outputs": [
        {
          "output_type": "stream",
          "text": [
            "[2, 3, 5, 7, 11, 13, 17, 19]\n"
          ],
          "name": "stdout"
        }
      ]
    },
    {
      "cell_type": "markdown",
      "metadata": {
        "id": "G4N4QsIl-muV"
      },
      "source": [
        "**Question 3:** You have seen in the videos how powerful dictionary data structure is.\n",
        "In this assignment, given a number n, you have to write a program that generates a dictionary d which\n",
        "contains (i, i*i), where i is from 1 to n (both included).\n",
        "Then you have to just print this dictionary d."
      ]
    },
    {
      "cell_type": "code",
      "metadata": {
        "id": "eGjpuTqm-0Po",
        "outputId": "cb9fb4a1-cc0b-46bc-c237-706b486bcd56",
        "colab": {
          "base_uri": "https://localhost:8080/"
        }
      },
      "source": [
        "dict = {}\n",
        "n = int(input())\n",
        "for i in range(1,n+1):\n",
        "  dict[i] = i*i\n",
        "print(dict)"
      ],
      "execution_count": 14,
      "outputs": [
        {
          "output_type": "stream",
          "text": [
            "7\n",
            "{1: 1, 2: 4, 3: 9, 4: 16, 5: 25, 6: 36, 7: 49}\n"
          ],
          "name": "stdout"
        }
      ]
    },
    {
      "cell_type": "markdown",
      "metadata": {
        "id": "XAjMxJncOdQ-"
      },
      "source": [
        "**Question 4:** Write a program to compute the distance between the current position after\n",
        "a sequence of movement and original point. If the distance is a float, then\n",
        "just print the nearest integer (use round() function for that and then convert\n",
        "it into an integer)."
      ]
    },
    {
      "cell_type": "code",
      "metadata": {
        "id": "lPmSya1sOtFJ",
        "outputId": "a0a279da-1a01-48f3-b94b-3724b30e5ca9",
        "colab": {
          "base_uri": "https://localhost:8080/"
        }
      },
      "source": [
        "position = {\"x\":0,\"y\":0}\n",
        "n = int(input())\n",
        "for i in range (n):\n",
        "    moves =  input().split(\" \")      \n",
        "    if moves[0].lower() == \"up\":     \n",
        "        position[\"y\"] += int(moves[1])    \n",
        "    elif moves[0].lower() == \"down\":\n",
        "        position[\"y\"] -= int(moves[1])\n",
        "    \n",
        "    elif moves[0].lower() == \"left\":\n",
        "        position[\"x\"] -= int(moves[1])\n",
        "    \n",
        "    elif moves[0].lower() == \"right\":\n",
        "        position[\"x\"] += int(moves[1])\n",
        "print(int(round((position[\"x\"]**2 +position[\"y\"]**2)**0.5)))"
      ],
      "execution_count": 20,
      "outputs": [
        {
          "output_type": "stream",
          "text": [
            "4\n",
            "up 5\n",
            "down 3\n",
            "LEFT 3\n",
            "righT 2\n",
            "2\n"
          ],
          "name": "stdout"
        }
      ]
    }
  ]
}