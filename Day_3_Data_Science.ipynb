{
  "nbformat": 4,
  "nbformat_minor": 0,
  "metadata": {
    "colab": {
      "name": "Day 3 Data Science.ipynb",
      "provenance": [],
      "authorship_tag": "ABX9TyNXs9+JAYfStWDtDIGlAiyi",
      "include_colab_link": true
    },
    "kernelspec": {
      "name": "python3",
      "display_name": "Python 3"
    }
  },
  "cells": [
    {
      "cell_type": "markdown",
      "metadata": {
        "id": "view-in-github",
        "colab_type": "text"
      },
      "source": [
        "<a href=\"https://colab.research.google.com/github/AceBlu/LetsUpgrade-Data-Science/blob/main/Day_3_Data_Science.ipynb\" target=\"_parent\"><img src=\"https://colab.research.google.com/assets/colab-badge.svg\" alt=\"Open In Colab\"/></a>"
      ]
    },
    {
      "cell_type": "markdown",
      "metadata": {
        "id": "ftQa2K5BP6Dq"
      },
      "source": [
        "# Day 3 Data Science Assignment\n",
        "\n"
      ]
    },
    {
      "cell_type": "markdown",
      "metadata": {
        "id": "YLI8nkK8HlJb"
      },
      "source": [
        "**Question 1.**\n",
        "Create a numpy array starting from 2 till 50 with a stepsize of 3."
      ]
    },
    {
      "cell_type": "code",
      "metadata": {
        "id": "axaBre2WGxr3",
        "outputId": "6319cd6f-0f8a-4314-db22-2e13acfb78bb",
        "colab": {
          "base_uri": "https://localhost:8080/"
        }
      },
      "source": [
        "import numpy as np\n",
        "ar = np.arange(2,50,3)\n",
        "print(ar)"
      ],
      "execution_count": 5,
      "outputs": [
        {
          "output_type": "stream",
          "text": [
            "[ 2  5  8 11 14 17 20 23 26 29 32 35 38 41 44 47]\n"
          ],
          "name": "stdout"
        }
      ]
    },
    {
      "cell_type": "markdown",
      "metadata": {
        "id": "jTSA6D6QH4oW"
      },
      "source": [
        "**Question 2.**\n",
        "Accept two lists of 5 elements each from the user. Convert them to numpy arrays. Concatenate these arrays and print it. Also sort these arrays and print it."
      ]
    },
    {
      "cell_type": "code",
      "metadata": {
        "id": "7_T_LP2FIf3E",
        "outputId": "54056209-c3ec-4249-d4f1-3411d589e80e",
        "colab": {
          "base_uri": "https://localhost:8080/"
        }
      },
      "source": [
        "lst1 = []\n",
        "lst2 = []\n",
        "\n",
        "print(\"Enter the value for List-1 : \")\n",
        "for i in range(5):\n",
        "  x=int(input(\"\"))\n",
        "  lst1.append(x)\n",
        "\n",
        "print(\"\\nEnter the value for List-2 : \")\n",
        "for i in range(5):\n",
        "  x=int(input(\"\"))\n",
        "  lst2.append(x)\n",
        "\n",
        "arr1 = np.array(lst1)\n",
        "arr2 = np.array(lst2)\n",
        "\n",
        "arr = np.concatenate((arr1, arr2))\n",
        "print(\"\\nConcatenated Array :\",arr)\n",
        "\n",
        "sortArr = np.sort(arr)\n",
        "print(\"\\nSorted Array :\",sortArr)"
      ],
      "execution_count": 20,
      "outputs": [
        {
          "output_type": "stream",
          "text": [
            "Enter the value for List-1 : \n",
            "1\n",
            "3\n",
            "5\n",
            "7\n",
            "9\n",
            "\n",
            "Enter the value for List-2 : \n",
            "2\n",
            "4\n",
            "5\n",
            "6\n",
            "8\n",
            "\n",
            "Concatenated Array : [1 3 5 7 9 2 4 5 6 8]\n",
            "\n",
            "Sorted Array : [1 2 3 4 5 5 6 7 8 9]\n"
          ],
          "name": "stdout"
        }
      ]
    },
    {
      "cell_type": "markdown",
      "metadata": {
        "id": "kmmvCd2TMpLm"
      },
      "source": [
        "**Question 3.**\n",
        "Write a code snippet to find the dimensions of a ndarray and its size."
      ]
    },
    {
      "cell_type": "code",
      "metadata": {
        "id": "aW-BJsOuMo8_",
        "outputId": "3a4e75d4-f9e3-4656-a4e8-b6167354df45",
        "colab": {
          "base_uri": "https://localhost:8080/"
        }
      },
      "source": [
        "arr = np.array([[1,3,5],[2,6,8],[1,2,4]])\n",
        "print(\"\\nDimensions of array : \", arr.ndim)\n",
        "print(\"\\nSize of array : \", arr.size)\n"
      ],
      "execution_count": 19,
      "outputs": [
        {
          "output_type": "stream",
          "text": [
            "\n",
            "Dimensions of array :  2\n",
            "\n",
            "Size of array :  9\n"
          ],
          "name": "stdout"
        }
      ]
    },
    {
      "cell_type": "markdown",
      "metadata": {
        "id": "G2e2dKewNKaM"
      },
      "source": [
        "**Question 4.**\n",
        "How to convert a 1D array into a 2D array? Demonstrate with the help of a code snippet\n",
        "\n",
        "Hint: np.newaxis, np.expand_dims"
      ]
    },
    {
      "cell_type": "code",
      "metadata": {
        "id": "mI-XFhlfNUl2",
        "outputId": "698745bb-c26d-4006-b37f-748ca0351ba7",
        "colab": {
          "base_uri": "https://localhost:8080/"
        }
      },
      "source": [
        "arr = np.arange(1,10)\n",
        "print(\"Shape of 1d Array :\",arr.shape)\n",
        "row = np.expand_dims(arr, axis=0)\n",
        "print(\"\\nShape of 2d Array in row major :\",row.shape)\n",
        "\n",
        "col = np.expand_dims(arr, axis=1)\n",
        "print(\"\\nShape of 2d Array in column major :\",col.shape)"
      ],
      "execution_count": 18,
      "outputs": [
        {
          "output_type": "stream",
          "text": [
            "Shape of 1d Array : (9,)\n",
            "\n",
            "Shape of 2d Array in row major : (1, 9)\n",
            "\n",
            "Shape of 2d Array in column major : (9, 1)\n"
          ],
          "name": "stdout"
        }
      ]
    },
    {
      "cell_type": "markdown",
      "metadata": {
        "id": "qiNmZ3MyOJIp"
      },
      "source": [
        "**Question 5.**\n",
        "Consider two square numpy arrays. Stack them vertically and horizontally.\n",
        "Hint: Use vstack(), hstack()"
      ]
    },
    {
      "cell_type": "code",
      "metadata": {
        "id": "f9_AHp46OI2P",
        "outputId": "8d74bb19-7477-4ce2-be46-5e2ca6c3217e",
        "colab": {
          "base_uri": "https://localhost:8080/"
        }
      },
      "source": [
        "array1 = np.square([1,3,5,7,9])\n",
        "array2 = np.square([2,4,6,8,10])\n",
        "\n",
        "print(\"Horizontal Append :\", np.hstack((array1, array2)))\n",
        "print(\"\\nVertical Append :\", np.vstack((array1, array2)))"
      ],
      "execution_count": 22,
      "outputs": [
        {
          "output_type": "stream",
          "text": [
            "Horizontal Append : [  1   9  25  49  81   4  16  36  64 100]\n",
            "\n",
            "Vertical Append : [[  1   9  25  49  81]\n",
            " [  4  16  36  64 100]]\n"
          ],
          "name": "stdout"
        }
      ]
    },
    {
      "cell_type": "markdown",
      "metadata": {
        "id": "lP1Kt0GPPW7L"
      },
      "source": [
        "**Question 6.**\n",
        "How to get unique items and counts of unique items?"
      ]
    },
    {
      "cell_type": "code",
      "metadata": {
        "id": "aRP6bl0RPdW_",
        "outputId": "7634fea6-24c1-4937-ec4b-0520056ff72f",
        "colab": {
          "base_uri": "https://localhost:8080/"
        }
      },
      "source": [
        "arr1 = np.array([2,3,4,56,1,2,4,6,3,3,3,5,10])\n",
        "uniq, cnts = np.unique(arr1, return_counts=True)\n",
        "arr = np.asarray((uniq, cnts)).T\n",
        "\n",
        "print(arr)"
      ],
      "execution_count": 24,
      "outputs": [
        {
          "output_type": "stream",
          "text": [
            "[[ 1  1]\n",
            " [ 2  2]\n",
            " [ 3  4]\n",
            " [ 4  2]\n",
            " [ 5  1]\n",
            " [ 6  1]\n",
            " [10  1]\n",
            " [56  1]]\n"
          ],
          "name": "stdout"
        }
      ]
    }
  ]
}
