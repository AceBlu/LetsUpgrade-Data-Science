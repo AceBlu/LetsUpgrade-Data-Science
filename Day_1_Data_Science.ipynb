{
  "nbformat": 4,
  "nbformat_minor": 0,
  "metadata": {
    "colab": {
      "name": "Day 1 Data Science.ipynb",
      "provenance": [],
      "authorship_tag": "ABX9TyN9zb3f3kmWfmijPQXao7ZV",
      "include_colab_link": true
    },
    "kernelspec": {
      "name": "python3",
      "display_name": "Python 3"
    }
  },
  "cells": [
    {
      "cell_type": "markdown",
      "metadata": {
        "id": "view-in-github",
        "colab_type": "text"
      },
      "source": [
        "<a href=\"https://colab.research.google.com/github/AceBlu/LetsUpgrade-Data-Science/blob/main/Day_1_Data_Science.ipynb\" target=\"_parent\"><img src=\"https://colab.research.google.com/assets/colab-badge.svg\" alt=\"Open In Colab\"/></a>"
      ]
    },
    {
      "cell_type": "markdown",
      "metadata": {
        "id": "Z197N8RPyANz"
      },
      "source": [
        "*Question 1.* Given the following jumbled word, OBANWRI guess the correct English word.\n",
        "\n",
        "A. RANIBOW\n",
        "B. RAINBOW\n",
        "C. BOWRANI\n",
        "D. ROBWANI\n",
        "\n",
        "ANS: B. RAINBOW"
      ]
    },
    {
      "cell_type": "markdown",
      "metadata": {
        "id": "UTm7_uPPH1CW"
      },
      "source": [
        "*Question 2.* Write a program which prints “LETS UPGRADE”. \n"
      ]
    },
    {
      "cell_type": "code",
      "metadata": {
        "id": "qeRxkPUoDLZY",
        "outputId": "895ef6ba-01a6-44e9-c132-9e5fb5879a08",
        "colab": {
          "base_uri": "https://localhost:8080/"
        }
      },
      "source": [
        "print(\"LETSUPGRADE\")"
      ],
      "execution_count": null,
      "outputs": [
        {
          "output_type": "stream",
          "text": [
            "LETSUPGRADE\n"
          ],
          "name": "stdout"
        }
      ]
    },
    {
      "cell_type": "markdown",
      "metadata": {
        "id": "w1YBM2B-pneg"
      },
      "source": [
        "*Question 3.* Write a program that takes cost price and selling price as input and displays whether the transaction is a Profit or a Loss or Neither."
      ]
    },
    {
      "cell_type": "code",
      "metadata": {
        "id": "q2GSjiP1pm4r",
        "outputId": "80ca8510-040f-4057-eb72-c500d57c622d",
        "colab": {
          "base_uri": "https://localhost:8080/"
        }
      },
      "source": [
        "cost_price=int(input())\n",
        "selling_price=int(input())\n",
        "if cost_price < selling_price:\n",
        "    print(\"Profit\")\n",
        "elif cost_price > selling_price:\n",
        "    print(\"Loss\")\n",
        "else:\n",
        "    print(\"Neither\")"
      ],
      "execution_count": null,
      "outputs": [
        {
          "output_type": "stream",
          "text": [
            "20\n",
            "30\n",
            "Profit\n"
          ],
          "name": "stdout"
        }
      ]
    },
    {
      "cell_type": "markdown",
      "metadata": {
        "id": "f0iHfV4VuKZI"
      },
      "source": [
        "*Question 4.* Write a program that takes an amount in Euros as input. You need to find its equivalent in Rupees and display it. Assume 1 Euro equals Rs. 80."
      ]
    },
    {
      "cell_type": "code",
      "metadata": {
        "id": "9ep8n-n9u1yw",
        "outputId": "1b4f4d41-ea86-495d-9fe5-a4b831dc6de2",
        "colab": {
          "base_uri": "https://localhost:8080/"
        }
      },
      "source": [
        "amount_in_rs=float(input())*80\n",
        "print(int(amount_in_rs))"
      ],
      "execution_count": null,
      "outputs": [
        {
          "output_type": "stream",
          "text": [
            "18\n",
            "1440\n"
          ],
          "name": "stdout"
        }
      ]
    }
  ]
}